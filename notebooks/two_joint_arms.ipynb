{
 "cells": [
  {
   "cell_type": "code",
   "execution_count": 21,
   "metadata": {
    "collapsed": false
   },
   "outputs": [
    {
     "name": "stdout",
     "output_type": "stream",
     "text": [
      "The autoreload extension is already loaded. To reload it, use:\n",
      "  %reload_ext autoreload\n"
     ]
    }
   ],
   "source": [
    "%load_ext autoreload\n",
    "%autoreload 2\n",
    "%matplotlib inline"
   ]
  },
  {
   "cell_type": "code",
   "execution_count": 55,
   "metadata": {
    "collapsed": true
   },
   "outputs": [],
   "source": [
    "from __future__ import print_function\n",
    "\n",
    "import numpy as np\n",
    "import tempfile\n",
    "import tensorflow as tf\n",
    "\n",
    "from tf_rl.controller import DiscreteDeepQ, HumanController\n",
    "from tf_rl.simulation import RoboticEnvironment\n",
    "from tf_rl import simulate\n",
    "from tf_rl.models import MLP"
   ]
  },
  {
   "cell_type": "code",
   "execution_count": 56,
   "metadata": {
    "collapsed": false
   },
   "outputs": [
    {
     "name": "stdout",
     "output_type": "stream",
     "text": [
      "/tmp/tmpf5Bs6Y\n"
     ]
    }
   ],
   "source": [
    "LOG_DIR = tempfile.mkdtemp()\n",
    "print(LOG_DIR)"
   ]
  },
  {
   "cell_type": "code",
   "execution_count": 68,
   "metadata": {
    "collapsed": false
   },
   "outputs": [],
   "source": [
    "current_settings = {\n",
    "    'agent': {\n",
    "        'jointLengths': [100, 100],\n",
    "        'origin': [250, 250],\n",
    "        'jointLimits': [[-180, 180], [-180, 180]],\n",
    "        'speedLimits': [[-5, 5], [-5, 5]] # deg/frame\n",
    "    },\n",
    "    'target': {\n",
    "        'color': 'green',\n",
    "        'radius': 15\n",
    "    },\n",
    "    'objects': [\n",
    "        'target',\n",
    "        'obstacle',\n",
    "    ],\n",
    "    'colors': {\n",
    "        'target':  'green',        \n",
    "        'obstacle':  'red',\n",
    "    },\n",
    "    'object_reward': {\n",
    "        'target': 0.1,\n",
    "        'obstacle': -0.1,\n",
    "    },\n",
    "    'maximum_trial': 3000,\n",
    "    'hero_bounces_off_walls': False,\n",
    "    'world_size': (450,450),     \n",
    "    \"object_radius\": 10.0,\n",
    "    \"wall_distance_penalty\":  -0.0,\n",
    "    \"delta_v\": 50\n",
    "}"
   ]
  },
  {
   "cell_type": "code",
   "execution_count": 69,
   "metadata": {
    "collapsed": false
   },
   "outputs": [],
   "source": [
    "g = RoboticEnvironment(current_settings)"
   ]
  },
  {
   "cell_type": "code",
   "execution_count": 70,
   "metadata": {
    "collapsed": false
   },
   "outputs": [
    {
     "data": {
      "text/html": [
       "<?xml version=\"1.0\"?>\n",
       "\n",
       "<svg height=\"470\" width=\"470\" >\n",
       "\n",
       " <g style=\"fill-opacity:1.0; stroke:black;\n",
       "\n",
       "  stroke-width:1;\">\n",
       "\n",
       "  <rect x=\"10\" y=\"10\" height=\"450\"\n",
       "\n",
       "        width=\"450\" style=\"fill:none;\" />\n",
       "\n",
       "  <circle cx=\"401\" cy=\"250\" r=\"15\"\n",
       "\n",
       "          style=\"fill:green;\" />\n",
       "\n",
       "  <line x1=\"250\" y1=\"250\" x2=\"294\" y2=\"160\" />\n",
       "\n",
       "  <line x1=\"294\" y1=\"160\" x2=\"325\" y2=\"255\" />\n",
       "\n",
       "  <circle cx=\"250\" cy=\"250\" r=\"3\"\n",
       "\n",
       "          style=\"fill:gray;\" />\n",
       "\n",
       "  <circle cx=\"294\" cy=\"160\" r=\"3\"\n",
       "\n",
       "          style=\"fill:gray;\" />\n",
       "\n",
       "  <circle cx=\"325\" cy=\"255\" r=\"3\"\n",
       "\n",
       "          style=\"fill:blue;\" />\n",
       "\n",
       "  <text x=\"10\" y=\"20\" font-size=\"15\">\n",
       "\n",
       "   [295 161] [325 256]\n",
       "\n",
       "  </text>\n",
       "\n",
       " </g>\n",
       "</svg>\n"
      ],
      "text/plain": [
       "<tf_rl.utils.svg.Scene instance at 0x7f83194115a8>"
      ]
     },
     "metadata": {},
     "output_type": "display_data"
    }
   ],
   "source": [
    "g.draw()"
   ]
  },
  {
   "cell_type": "code",
   "execution_count": null,
   "metadata": {
    "collapsed": true
   },
   "outputs": [],
   "source": []
  },
  {
   "cell_type": "code",
   "execution_count": null,
   "metadata": {
    "collapsed": true
   },
   "outputs": [],
   "source": []
  }
 ],
 "metadata": {
  "kernelspec": {
   "display_name": "Python 2",
   "language": "python",
   "name": "python2"
  },
  "language_info": {
   "codemirror_mode": {
    "name": "ipython",
    "version": 2
   },
   "file_extension": ".py",
   "mimetype": "text/x-python",
   "name": "python",
   "nbconvert_exporter": "python",
   "pygments_lexer": "ipython2",
   "version": "2.7.9"
  }
 },
 "nbformat": 4,
 "nbformat_minor": 0
}
